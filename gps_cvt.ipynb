{
 "cells": [
  {
   "cell_type": "code",
   "execution_count": 1,
   "id": "22bf389c",
   "metadata": {},
   "outputs": [],
   "source": [
    "import os\n",
    "import shutil\n",
    "from typing import Any, Dict\n",
    "from readingdb.constants import *\n",
    "from datetime import datetime"
   ]
  },
  {
   "cell_type": "code",
   "execution_count": 2,
   "id": "784b199e",
   "metadata": {},
   "outputs": [],
   "source": [
    "def txt_to_points(lines):\n",
    "    points = []\n",
    "\n",
    "    for line in lines:\n",
    "        if len(line) > 10:\n",
    "            segments = [s.strip('\\n').strip('\\r') for s in line.split(' ') if s != '']    \n",
    "            point = {\n",
    "                ReadingKeys.TIMESTAMP: int(segments[0].split(':')[-1]),\n",
    "                ReadingKeys.READING: {\n",
    "                    PositionReadingKeys.LATITUDE: float(segments[1].split(':')[-1]),\n",
    "                    PositionReadingKeys.LONGITUDE: float(segments[2].split(':')[-1])\n",
    "                },\n",
    "            }\n",
    "\n",
    "            points.append(point)\n",
    "\n",
    "    return points"
   ]
  },
  {
   "cell_type": "code",
   "execution_count": 3,
   "id": "c0122d99",
   "metadata": {},
   "outputs": [],
   "source": [
    "def point_to_line(p):\n",
    "    return f\"timestamp:{int(p['Timestamp'])} lat:{p['Reading']['Latitude']} long:{p['Reading']['Longitude']}\\n\\n\""
   ]
  },
  {
   "cell_type": "code",
   "execution_count": 4,
   "id": "8744ec71",
   "metadata": {},
   "outputs": [],
   "source": [
    "def convert(filename):\n",
    "    suffix = filename.split('.')[-1] \n",
    "    prefix = filename.split('.')[0] \n",
    "    shutil.copy(filename, prefix + \"_backup.\" + suffix)\n",
    "    \n",
    "    with open(filename, 'r') as f:\n",
    "        lines = f.readlines()\n",
    "    \n",
    "    ps = txt_to_points(lines)\n",
    "    \n",
    "    new_string = \"\"\n",
    "    for p in ps:\n",
    "        p['Timestamp'] += 3.6e+7\n",
    "        new_string += point_to_line(p)\n",
    "    \n",
    "    with open(filename, 'w') as f:\n",
    "        f.write(new_string)\n",
    "    "
   ]
  },
  {
   "cell_type": "code",
   "execution_count": 10,
   "id": "88e2cc7d",
   "metadata": {},
   "outputs": [],
   "source": [
    "pth = '/home/lewington/Desktop/alicia/'\n",
    "routes = [pth + q + '/GPS.txt' for q in os.listdir(pth)]"
   ]
  },
  {
   "cell_type": "code",
   "execution_count": 12,
   "id": "78f8d38d",
   "metadata": {},
   "outputs": [],
   "source": [
    "routes = [\n",
    "'/home/lewington/Desktop/alicia/route_2021_04_29_12_40_15_528/GPS.txt',\n",
    " '/home/lewington/Desktop/alicia/route_2021_04_29_14_31_58_937/GPS.txt',\n",
    " '/home/lewington/Desktop/alicia/route_2021_05_03_07_34_02_610/GPS.txt',\n",
    " '/home/lewington/Desktop/alicia/route_2021_04_29_13_24_37_374/GPS.txt',\n",
    " '/home/lewington/Desktop/alicia/route_2021_04_29_13_22_56_707/GPS.txt',\n",
    " '/home/lewington/Desktop/alicia/route_2021_04_29_13_24_23_758/GPS.txt',\n",
    " '/home/lewington/Desktop/alicia/route_2021_04_30_15_45_44_399/GPS.txt',\n",
    " '/home/lewington/Desktop/alicia/route_2021_04_29_15_42_43_412/GPS.txt',\n",
    " '/home/lewington/Desktop/alicia/route_2021_05_02_14_28_02_081/GPS.txt',\n",
    " '/home/lewington/Desktop/alicia/route_2021_05_02_11_52_31_134/GPS.txt',\n",
    " '/home/lewington/Desktop/alicia/route_2021_04_30_11_45_01_326/GPS.txt'\n",
    "]"
   ]
  },
  {
   "cell_type": "code",
   "execution_count": 13,
   "id": "e03e121a",
   "metadata": {},
   "outputs": [],
   "source": [
    "for r in routes:\n",
    "    convert(r)"
   ]
  },
  {
   "cell_type": "code",
   "execution_count": 23,
   "id": "5b24c477",
   "metadata": {},
   "outputs": [],
   "source": [
    "convert('/home/lewington/Desktop/alicia/uploaded/route_2021_04_29_14_15_34_999/GPS.txt')"
   ]
  },
  {
   "cell_type": "code",
   "execution_count": null,
   "id": "2cd5ddce",
   "metadata": {},
   "outputs": [],
   "source": []
  }
 ],
 "metadata": {
  "kernelspec": {
   "display_name": "Python 3",
   "language": "python",
   "name": "python3"
  },
  "language_info": {
   "codemirror_mode": {
    "name": "ipython",
    "version": 3
   },
   "file_extension": ".py",
   "mimetype": "text/x-python",
   "name": "python",
   "nbconvert_exporter": "python",
   "pygments_lexer": "ipython3",
   "version": "3.6.9"
  }
 },
 "nbformat": 4,
 "nbformat_minor": 5
}
